{
 "cells": [
  {
   "cell_type": "code",
   "execution_count": 1,
   "id": "e2d9a5a3",
   "metadata": {},
   "outputs": [],
   "source": [
    "import pandas as pd\n",
    "import numpy as np\n",
    "import matplotlib.pyplot as plt\n",
    "from sklearn.model_selection import train_test_split\n",
    "from sklearn.preprocessing import StandardScaler"
   ]
  },
  {
   "cell_type": "code",
   "execution_count": 2,
   "id": "d005e5b2",
   "metadata": {},
   "outputs": [],
   "source": [
    "df_users = pd.read_csv('takehome_users.csv', sep=\"\\\\|,\\\\|\", engine='python')"
   ]
  },
  {
   "cell_type": "code",
   "execution_count": 3,
   "id": "c48cbe0b",
   "metadata": {},
   "outputs": [],
   "source": [
    "names = df_users.columns.str.split(',').tolist()"
   ]
  },
  {
   "cell_type": "code",
   "execution_count": 4,
   "id": "db579cef",
   "metadata": {},
   "outputs": [],
   "source": [
    "names = names[0]"
   ]
  },
  {
   "cell_type": "code",
   "execution_count": 5,
   "id": "1181fcbf",
   "metadata": {},
   "outputs": [],
   "source": [
    "df_users = df_users.iloc[:,0].str.split(',', expand=True)"
   ]
  },
  {
   "cell_type": "code",
   "execution_count": 6,
   "id": "54d300b1",
   "metadata": {},
   "outputs": [],
   "source": [
    "df_users.columns = names"
   ]
  },
  {
   "cell_type": "code",
   "execution_count": 7,
   "id": "3801036b",
   "metadata": {},
   "outputs": [],
   "source": [
    "df_users.object_id = df_users.object_id.astype(int)"
   ]
  },
  {
   "cell_type": "code",
   "execution_count": 8,
   "id": "1e593527",
   "metadata": {
    "scrolled": false
   },
   "outputs": [
    {
     "data": {
      "text/html": [
       "<div>\n",
       "<style scoped>\n",
       "    .dataframe tbody tr th:only-of-type {\n",
       "        vertical-align: middle;\n",
       "    }\n",
       "\n",
       "    .dataframe tbody tr th {\n",
       "        vertical-align: top;\n",
       "    }\n",
       "\n",
       "    .dataframe thead th {\n",
       "        text-align: right;\n",
       "    }\n",
       "</style>\n",
       "<table border=\"1\" class=\"dataframe\">\n",
       "  <thead>\n",
       "    <tr style=\"text-align: right;\">\n",
       "      <th></th>\n",
       "      <th>object_id</th>\n",
       "      <th>creation_time</th>\n",
       "      <th>name</th>\n",
       "      <th>email</th>\n",
       "      <th>creation_source</th>\n",
       "      <th>last_session_creation_time</th>\n",
       "      <th>opted_in_to_mailing_list</th>\n",
       "      <th>enabled_for_marketing_drip</th>\n",
       "      <th>org_id</th>\n",
       "      <th>invited_by_user_id</th>\n",
       "    </tr>\n",
       "  </thead>\n",
       "  <tbody>\n",
       "    <tr>\n",
       "      <th>0</th>\n",
       "      <td>1</td>\n",
       "      <td>2014-04-22 03:53:30</td>\n",
       "      <td>Clausen August</td>\n",
       "      <td>AugustCClausen@yahoo.com</td>\n",
       "      <td>GUEST_INVITE</td>\n",
       "      <td>1398138810</td>\n",
       "      <td>1</td>\n",
       "      <td>0</td>\n",
       "      <td>11</td>\n",
       "      <td>10803</td>\n",
       "    </tr>\n",
       "    <tr>\n",
       "      <th>1</th>\n",
       "      <td>2</td>\n",
       "      <td>2013-11-15 03:45:04</td>\n",
       "      <td>Poole Matthew</td>\n",
       "      <td>MatthewPoole@gustr.com</td>\n",
       "      <td>ORG_INVITE</td>\n",
       "      <td>1396237504</td>\n",
       "      <td>0</td>\n",
       "      <td>0</td>\n",
       "      <td>1</td>\n",
       "      <td>316</td>\n",
       "    </tr>\n",
       "    <tr>\n",
       "      <th>2</th>\n",
       "      <td>3</td>\n",
       "      <td>2013-03-19 23:14:52</td>\n",
       "      <td>Bottrill Mitchell</td>\n",
       "      <td>MitchellBottrill@gustr.com</td>\n",
       "      <td>ORG_INVITE</td>\n",
       "      <td>1363734892</td>\n",
       "      <td>0</td>\n",
       "      <td>0</td>\n",
       "      <td>94</td>\n",
       "      <td>1525</td>\n",
       "    </tr>\n",
       "    <tr>\n",
       "      <th>3</th>\n",
       "      <td>4</td>\n",
       "      <td>2013-05-21 08:09:28</td>\n",
       "      <td>Clausen Nicklas</td>\n",
       "      <td>NicklasSClausen@yahoo.com</td>\n",
       "      <td>GUEST_INVITE</td>\n",
       "      <td>1369210168</td>\n",
       "      <td>0</td>\n",
       "      <td>0</td>\n",
       "      <td>1</td>\n",
       "      <td>5151</td>\n",
       "    </tr>\n",
       "    <tr>\n",
       "      <th>4</th>\n",
       "      <td>5</td>\n",
       "      <td>2013-01-17 10:14:20</td>\n",
       "      <td>Raw Grace</td>\n",
       "      <td>GraceRaw@yahoo.com</td>\n",
       "      <td>GUEST_INVITE</td>\n",
       "      <td>1358849660</td>\n",
       "      <td>0</td>\n",
       "      <td>0</td>\n",
       "      <td>193</td>\n",
       "      <td>5240</td>\n",
       "    </tr>\n",
       "  </tbody>\n",
       "</table>\n",
       "</div>"
      ],
      "text/plain": [
       "   object_id        creation_time               name  \\\n",
       "0          1  2014-04-22 03:53:30     Clausen August   \n",
       "1          2  2013-11-15 03:45:04      Poole Matthew   \n",
       "2          3  2013-03-19 23:14:52  Bottrill Mitchell   \n",
       "3          4  2013-05-21 08:09:28    Clausen Nicklas   \n",
       "4          5  2013-01-17 10:14:20          Raw Grace   \n",
       "\n",
       "                        email creation_source last_session_creation_time  \\\n",
       "0    AugustCClausen@yahoo.com    GUEST_INVITE                 1398138810   \n",
       "1      MatthewPoole@gustr.com      ORG_INVITE                 1396237504   \n",
       "2  MitchellBottrill@gustr.com      ORG_INVITE                 1363734892   \n",
       "3   NicklasSClausen@yahoo.com    GUEST_INVITE                 1369210168   \n",
       "4          GraceRaw@yahoo.com    GUEST_INVITE                 1358849660   \n",
       "\n",
       "  opted_in_to_mailing_list enabled_for_marketing_drip org_id  \\\n",
       "0                        1                          0     11   \n",
       "1                        0                          0      1   \n",
       "2                        0                          0     94   \n",
       "3                        0                          0      1   \n",
       "4                        0                          0    193   \n",
       "\n",
       "  invited_by_user_id  \n",
       "0              10803  \n",
       "1                316  \n",
       "2               1525  \n",
       "3               5151  \n",
       "4               5240  "
      ]
     },
     "execution_count": 8,
     "metadata": {},
     "output_type": "execute_result"
    }
   ],
   "source": [
    "df_users.head()"
   ]
  },
  {
   "cell_type": "code",
   "execution_count": 9,
   "id": "ff369379",
   "metadata": {},
   "outputs": [],
   "source": [
    "df_usereng = pd.read_csv('takehome_user_engagement.csv')"
   ]
  },
  {
   "cell_type": "code",
   "execution_count": 10,
   "id": "db4f17a7",
   "metadata": {
    "scrolled": true
   },
   "outputs": [
    {
     "data": {
      "text/html": [
       "<div>\n",
       "<style scoped>\n",
       "    .dataframe tbody tr th:only-of-type {\n",
       "        vertical-align: middle;\n",
       "    }\n",
       "\n",
       "    .dataframe tbody tr th {\n",
       "        vertical-align: top;\n",
       "    }\n",
       "\n",
       "    .dataframe thead th {\n",
       "        text-align: right;\n",
       "    }\n",
       "</style>\n",
       "<table border=\"1\" class=\"dataframe\">\n",
       "  <thead>\n",
       "    <tr style=\"text-align: right;\">\n",
       "      <th></th>\n",
       "      <th>time_stamp</th>\n",
       "      <th>user_id</th>\n",
       "      <th>visited</th>\n",
       "    </tr>\n",
       "  </thead>\n",
       "  <tbody>\n",
       "    <tr>\n",
       "      <th>0</th>\n",
       "      <td>2014-04-22 03:53:30</td>\n",
       "      <td>1</td>\n",
       "      <td>1</td>\n",
       "    </tr>\n",
       "    <tr>\n",
       "      <th>1</th>\n",
       "      <td>2013-11-15 03:45:04</td>\n",
       "      <td>2</td>\n",
       "      <td>1</td>\n",
       "    </tr>\n",
       "    <tr>\n",
       "      <th>2</th>\n",
       "      <td>2013-11-29 03:45:04</td>\n",
       "      <td>2</td>\n",
       "      <td>1</td>\n",
       "    </tr>\n",
       "    <tr>\n",
       "      <th>3</th>\n",
       "      <td>2013-12-09 03:45:04</td>\n",
       "      <td>2</td>\n",
       "      <td>1</td>\n",
       "    </tr>\n",
       "    <tr>\n",
       "      <th>4</th>\n",
       "      <td>2013-12-25 03:45:04</td>\n",
       "      <td>2</td>\n",
       "      <td>1</td>\n",
       "    </tr>\n",
       "  </tbody>\n",
       "</table>\n",
       "</div>"
      ],
      "text/plain": [
       "            time_stamp  user_id  visited\n",
       "0  2014-04-22 03:53:30        1        1\n",
       "1  2013-11-15 03:45:04        2        1\n",
       "2  2013-11-29 03:45:04        2        1\n",
       "3  2013-12-09 03:45:04        2        1\n",
       "4  2013-12-25 03:45:04        2        1"
      ]
     },
     "execution_count": 10,
     "metadata": {},
     "output_type": "execute_result"
    }
   ],
   "source": [
    "df_usereng.head()"
   ]
  },
  {
   "cell_type": "markdown",
   "id": "4b89aae2",
   "metadata": {},
   "source": [
    "Analysis of users engagment dataframe:"
   ]
  },
  {
   "cell_type": "code",
   "execution_count": 11,
   "id": "4a828206",
   "metadata": {},
   "outputs": [
    {
     "data": {
      "text/plain": [
       "time_stamp    False\n",
       "user_id       False\n",
       "visited       False\n",
       "dtype: bool"
      ]
     },
     "execution_count": 11,
     "metadata": {},
     "output_type": "execute_result"
    }
   ],
   "source": [
    "df_usereng.isna().any()"
   ]
  },
  {
   "cell_type": "code",
   "execution_count": 12,
   "id": "c055900c",
   "metadata": {},
   "outputs": [
    {
     "data": {
      "text/plain": [
       "array([1])"
      ]
     },
     "execution_count": 12,
     "metadata": {},
     "output_type": "execute_result"
    }
   ],
   "source": [
    "df_usereng.visited.unique()"
   ]
  },
  {
   "cell_type": "code",
   "execution_count": 13,
   "id": "ebbfbac0",
   "metadata": {},
   "outputs": [
    {
     "data": {
      "text/plain": [
       "8823"
      ]
     },
     "execution_count": 13,
     "metadata": {},
     "output_type": "execute_result"
    }
   ],
   "source": [
    "df_usereng.user_id.nunique()"
   ]
  },
  {
   "cell_type": "code",
   "execution_count": 14,
   "id": "14947ee4",
   "metadata": {},
   "outputs": [
    {
     "data": {
      "text/plain": [
       "12000"
      ]
     },
     "execution_count": 14,
     "metadata": {},
     "output_type": "execute_result"
    }
   ],
   "source": [
    "df_usereng.user_id.max()"
   ]
  },
  {
   "cell_type": "code",
   "execution_count": 15,
   "id": "e5b1b519",
   "metadata": {},
   "outputs": [
    {
     "data": {
      "text/plain": [
       "dtype('O')"
      ]
     },
     "execution_count": 15,
     "metadata": {},
     "output_type": "execute_result"
    }
   ],
   "source": [
    "df_usereng.time_stamp.dtype"
   ]
  },
  {
   "cell_type": "code",
   "execution_count": 16,
   "id": "85564d35",
   "metadata": {
    "scrolled": true
   },
   "outputs": [],
   "source": [
    "df_usereng.time_stamp = pd.to_datetime(df_usereng.time_stamp)"
   ]
  },
  {
   "cell_type": "code",
   "execution_count": 17,
   "id": "8a0c90bd",
   "metadata": {},
   "outputs": [],
   "source": [
    "df_usereng = df_usereng.sort_values('time_stamp')"
   ]
  },
  {
   "cell_type": "code",
   "execution_count": 18,
   "id": "a8562413",
   "metadata": {},
   "outputs": [],
   "source": [
    "df_usereng = df_usereng.set_index('time_stamp')"
   ]
  },
  {
   "cell_type": "code",
   "execution_count": 19,
   "id": "a3ecb1f7",
   "metadata": {},
   "outputs": [],
   "source": [
    "temp = df_usereng.groupby('user_id')['visited'].rolling('7D', min_periods=1).count()"
   ]
  },
  {
   "cell_type": "code",
   "execution_count": 20,
   "id": "e379c0f3",
   "metadata": {},
   "outputs": [],
   "source": [
    "df_usereng = df_usereng.sort_values('user_id')"
   ]
  },
  {
   "cell_type": "code",
   "execution_count": 21,
   "id": "34124620",
   "metadata": {},
   "outputs": [],
   "source": [
    "df_usereng['rolling_engagment'] = temp.values"
   ]
  },
  {
   "cell_type": "code",
   "execution_count": 22,
   "id": "1c4979ee",
   "metadata": {},
   "outputs": [],
   "source": [
    "temp = df_usereng.groupby('user_id')['rolling_engagment'].max()"
   ]
  },
  {
   "cell_type": "code",
   "execution_count": 23,
   "id": "c6ea5f23",
   "metadata": {},
   "outputs": [],
   "source": [
    "adopted_user = temp >= 3"
   ]
  },
  {
   "cell_type": "code",
   "execution_count": 24,
   "id": "a1b33cb7",
   "metadata": {},
   "outputs": [],
   "source": [
    "df_adopted_user = pd.DataFrame(adopted_user)"
   ]
  },
  {
   "cell_type": "code",
   "execution_count": 25,
   "id": "0dae3213",
   "metadata": {},
   "outputs": [],
   "source": [
    "df_adopted_user = df_adopted_user.rename(columns={'rolling_engagment':'adopted_user'})"
   ]
  },
  {
   "cell_type": "markdown",
   "id": "067b1b17",
   "metadata": {},
   "source": [
    "Analysis of users dataframe:"
   ]
  },
  {
   "cell_type": "code",
   "execution_count": 26,
   "id": "102ebc96",
   "metadata": {},
   "outputs": [
    {
     "data": {
      "text/html": [
       "<div>\n",
       "<style scoped>\n",
       "    .dataframe tbody tr th:only-of-type {\n",
       "        vertical-align: middle;\n",
       "    }\n",
       "\n",
       "    .dataframe tbody tr th {\n",
       "        vertical-align: top;\n",
       "    }\n",
       "\n",
       "    .dataframe thead th {\n",
       "        text-align: right;\n",
       "    }\n",
       "</style>\n",
       "<table border=\"1\" class=\"dataframe\">\n",
       "  <thead>\n",
       "    <tr style=\"text-align: right;\">\n",
       "      <th></th>\n",
       "      <th>object_id</th>\n",
       "      <th>creation_time</th>\n",
       "      <th>name</th>\n",
       "      <th>email</th>\n",
       "      <th>creation_source</th>\n",
       "      <th>last_session_creation_time</th>\n",
       "      <th>opted_in_to_mailing_list</th>\n",
       "      <th>enabled_for_marketing_drip</th>\n",
       "      <th>org_id</th>\n",
       "      <th>invited_by_user_id</th>\n",
       "    </tr>\n",
       "  </thead>\n",
       "  <tbody>\n",
       "    <tr>\n",
       "      <th>0</th>\n",
       "      <td>1</td>\n",
       "      <td>2014-04-22 03:53:30</td>\n",
       "      <td>Clausen August</td>\n",
       "      <td>AugustCClausen@yahoo.com</td>\n",
       "      <td>GUEST_INVITE</td>\n",
       "      <td>1398138810</td>\n",
       "      <td>1</td>\n",
       "      <td>0</td>\n",
       "      <td>11</td>\n",
       "      <td>10803</td>\n",
       "    </tr>\n",
       "    <tr>\n",
       "      <th>1</th>\n",
       "      <td>2</td>\n",
       "      <td>2013-11-15 03:45:04</td>\n",
       "      <td>Poole Matthew</td>\n",
       "      <td>MatthewPoole@gustr.com</td>\n",
       "      <td>ORG_INVITE</td>\n",
       "      <td>1396237504</td>\n",
       "      <td>0</td>\n",
       "      <td>0</td>\n",
       "      <td>1</td>\n",
       "      <td>316</td>\n",
       "    </tr>\n",
       "    <tr>\n",
       "      <th>2</th>\n",
       "      <td>3</td>\n",
       "      <td>2013-03-19 23:14:52</td>\n",
       "      <td>Bottrill Mitchell</td>\n",
       "      <td>MitchellBottrill@gustr.com</td>\n",
       "      <td>ORG_INVITE</td>\n",
       "      <td>1363734892</td>\n",
       "      <td>0</td>\n",
       "      <td>0</td>\n",
       "      <td>94</td>\n",
       "      <td>1525</td>\n",
       "    </tr>\n",
       "    <tr>\n",
       "      <th>3</th>\n",
       "      <td>4</td>\n",
       "      <td>2013-05-21 08:09:28</td>\n",
       "      <td>Clausen Nicklas</td>\n",
       "      <td>NicklasSClausen@yahoo.com</td>\n",
       "      <td>GUEST_INVITE</td>\n",
       "      <td>1369210168</td>\n",
       "      <td>0</td>\n",
       "      <td>0</td>\n",
       "      <td>1</td>\n",
       "      <td>5151</td>\n",
       "    </tr>\n",
       "    <tr>\n",
       "      <th>4</th>\n",
       "      <td>5</td>\n",
       "      <td>2013-01-17 10:14:20</td>\n",
       "      <td>Raw Grace</td>\n",
       "      <td>GraceRaw@yahoo.com</td>\n",
       "      <td>GUEST_INVITE</td>\n",
       "      <td>1358849660</td>\n",
       "      <td>0</td>\n",
       "      <td>0</td>\n",
       "      <td>193</td>\n",
       "      <td>5240</td>\n",
       "    </tr>\n",
       "  </tbody>\n",
       "</table>\n",
       "</div>"
      ],
      "text/plain": [
       "   object_id        creation_time               name  \\\n",
       "0          1  2014-04-22 03:53:30     Clausen August   \n",
       "1          2  2013-11-15 03:45:04      Poole Matthew   \n",
       "2          3  2013-03-19 23:14:52  Bottrill Mitchell   \n",
       "3          4  2013-05-21 08:09:28    Clausen Nicklas   \n",
       "4          5  2013-01-17 10:14:20          Raw Grace   \n",
       "\n",
       "                        email creation_source last_session_creation_time  \\\n",
       "0    AugustCClausen@yahoo.com    GUEST_INVITE                 1398138810   \n",
       "1      MatthewPoole@gustr.com      ORG_INVITE                 1396237504   \n",
       "2  MitchellBottrill@gustr.com      ORG_INVITE                 1363734892   \n",
       "3   NicklasSClausen@yahoo.com    GUEST_INVITE                 1369210168   \n",
       "4          GraceRaw@yahoo.com    GUEST_INVITE                 1358849660   \n",
       "\n",
       "  opted_in_to_mailing_list enabled_for_marketing_drip org_id  \\\n",
       "0                        1                          0     11   \n",
       "1                        0                          0      1   \n",
       "2                        0                          0     94   \n",
       "3                        0                          0      1   \n",
       "4                        0                          0    193   \n",
       "\n",
       "  invited_by_user_id  \n",
       "0              10803  \n",
       "1                316  \n",
       "2               1525  \n",
       "3               5151  \n",
       "4               5240  "
      ]
     },
     "execution_count": 26,
     "metadata": {},
     "output_type": "execute_result"
    }
   ],
   "source": [
    "df_users.head()"
   ]
  },
  {
   "cell_type": "code",
   "execution_count": 27,
   "id": "0506030a",
   "metadata": {},
   "outputs": [],
   "source": [
    "df_users = df_users.replace(\"\", np.nan)"
   ]
  },
  {
   "cell_type": "code",
   "execution_count": 28,
   "id": "e2f8767b",
   "metadata": {},
   "outputs": [
    {
     "data": {
      "text/plain": [
       "object_id                     False\n",
       "creation_time                 False\n",
       "name                          False\n",
       "email                         False\n",
       "creation_source               False\n",
       "last_session_creation_time     True\n",
       "opted_in_to_mailing_list      False\n",
       "enabled_for_marketing_drip    False\n",
       "org_id                        False\n",
       "invited_by_user_id             True\n",
       "dtype: bool"
      ]
     },
     "execution_count": 28,
     "metadata": {},
     "output_type": "execute_result"
    }
   ],
   "source": [
    "df_users.isna().any()"
   ]
  },
  {
   "cell_type": "markdown",
   "id": "3d7f4d62",
   "metadata": {},
   "source": [
    "The missing values in invited_by_user_id probably represent users that signed up without an invitation. We check for this:"
   ]
  },
  {
   "cell_type": "code",
   "execution_count": 29,
   "id": "dde173a0",
   "metadata": {},
   "outputs": [
    {
     "data": {
      "text/plain": [
       "array(['SIGNUP', 'PERSONAL_PROJECTS', 'SIGNUP_GOOGLE_AUTH'], dtype=object)"
      ]
     },
     "execution_count": 29,
     "metadata": {},
     "output_type": "execute_result"
    }
   ],
   "source": [
    "df_users[df_users['invited_by_user_id'].isna()]['creation_source'].unique()"
   ]
  },
  {
   "cell_type": "code",
   "execution_count": 30,
   "id": "16f2543a",
   "metadata": {},
   "outputs": [
    {
     "data": {
      "text/plain": [
       "array(['GUEST_INVITE', 'ORG_INVITE'], dtype=object)"
      ]
     },
     "execution_count": 30,
     "metadata": {},
     "output_type": "execute_result"
    }
   ],
   "source": [
    "df_users[~df_users['invited_by_user_id'].isna()]['creation_source'].unique()"
   ]
  },
  {
   "cell_type": "markdown",
   "id": "e30a9230",
   "metadata": {},
   "source": [
    "We see that our assumption was correct. We impute these values with \"not invited\"."
   ]
  },
  {
   "cell_type": "code",
   "execution_count": 31,
   "id": "ff151ab0",
   "metadata": {},
   "outputs": [],
   "source": [
    "df_users.loc[df_users['invited_by_user_id'].isna(), 'invited_by_user_id'] = 'not invited'"
   ]
  },
  {
   "cell_type": "markdown",
   "id": "50817e7e",
   "metadata": {},
   "source": [
    "The missing values in last_session_creation_time probably represent users that never logged in to their accounts after account creation. We first check this by merging the original user engagment dataframe with the users dataframe to see if there are any usages recorded in the original user engagment dataframe."
   ]
  },
  {
   "cell_type": "code",
   "execution_count": 32,
   "id": "68f113dd",
   "metadata": {},
   "outputs": [],
   "source": [
    "temp = pd.read_csv('takehome_user_engagement.csv')"
   ]
  },
  {
   "cell_type": "code",
   "execution_count": 33,
   "id": "19933dc7",
   "metadata": {},
   "outputs": [],
   "source": [
    "dftemp = df_users.merge(temp, how='left', left_on='object_id', right_on='user_id')"
   ]
  },
  {
   "cell_type": "code",
   "execution_count": 34,
   "id": "dda9542e",
   "metadata": {},
   "outputs": [
    {
     "data": {
      "text/plain": [
       "3177"
      ]
     },
     "execution_count": 34,
     "metadata": {},
     "output_type": "execute_result"
    }
   ],
   "source": [
    "dftemp[dftemp['last_session_creation_time'].isna()].shape[0]"
   ]
  },
  {
   "cell_type": "code",
   "execution_count": 35,
   "id": "ec435215",
   "metadata": {},
   "outputs": [
    {
     "data": {
      "text/plain": [
       "3177"
      ]
     },
     "execution_count": 35,
     "metadata": {},
     "output_type": "execute_result"
    }
   ],
   "source": [
    "dftemp.loc[dftemp['last_session_creation_time'].isna(), 'visited'].isna().sum()"
   ]
  },
  {
   "cell_type": "markdown",
   "id": "a3149c5f",
   "metadata": {},
   "source": [
    "We see that merging the dataframes did not help in imputing the missing data for last_session_creation_time. So we reiterate our assumption that the missing values in last_session_creation_time probably represent users that never logged in to their accounts after account creation. We impute these values to be the same as account creation time."
   ]
  },
  {
   "cell_type": "code",
   "execution_count": 36,
   "id": "2e4951eb",
   "metadata": {},
   "outputs": [],
   "source": [
    "df_users['last_session_creation_time'] = pd.to_datetime(df_users['last_session_creation_time'], unit='s')"
   ]
  },
  {
   "cell_type": "code",
   "execution_count": 37,
   "id": "fe02a02d",
   "metadata": {},
   "outputs": [],
   "source": [
    "df_users.creation_time = pd.to_datetime(df_users['creation_time'])"
   ]
  },
  {
   "cell_type": "code",
   "execution_count": 38,
   "id": "967e06aa",
   "metadata": {},
   "outputs": [],
   "source": [
    "df_users.loc[df_users['last_session_creation_time'].isna(), 'last_session_creation_time'] = \\\n",
    "df_users.loc[df_users['last_session_creation_time'].isna(), 'creation_time']"
   ]
  },
  {
   "cell_type": "code",
   "execution_count": 39,
   "id": "d3e9be3e",
   "metadata": {},
   "outputs": [
    {
     "data": {
      "text/plain": [
       "False"
      ]
     },
     "execution_count": 39,
     "metadata": {},
     "output_type": "execute_result"
    }
   ],
   "source": [
    "(df_users.creation_time > df_users.last_session_creation_time).any()"
   ]
  },
  {
   "cell_type": "code",
   "execution_count": 40,
   "id": "e4740778",
   "metadata": {},
   "outputs": [
    {
     "data": {
      "text/html": [
       "<div>\n",
       "<style scoped>\n",
       "    .dataframe tbody tr th:only-of-type {\n",
       "        vertical-align: middle;\n",
       "    }\n",
       "\n",
       "    .dataframe tbody tr th {\n",
       "        vertical-align: top;\n",
       "    }\n",
       "\n",
       "    .dataframe thead th {\n",
       "        text-align: right;\n",
       "    }\n",
       "</style>\n",
       "<table border=\"1\" class=\"dataframe\">\n",
       "  <thead>\n",
       "    <tr style=\"text-align: right;\">\n",
       "      <th></th>\n",
       "      <th>object_id</th>\n",
       "      <th>creation_time</th>\n",
       "      <th>name</th>\n",
       "      <th>email</th>\n",
       "      <th>creation_source</th>\n",
       "      <th>last_session_creation_time</th>\n",
       "      <th>opted_in_to_mailing_list</th>\n",
       "      <th>enabled_for_marketing_drip</th>\n",
       "      <th>org_id</th>\n",
       "      <th>invited_by_user_id</th>\n",
       "    </tr>\n",
       "  </thead>\n",
       "  <tbody>\n",
       "    <tr>\n",
       "      <th>6696</th>\n",
       "      <td>6697</td>\n",
       "      <td>2013-11-11 04:10:17</td>\n",
       "      <td>Alexander Zoe</td>\n",
       "      <td>ZoeAlexander@yahoo.com</td>\n",
       "      <td>PERSONAL_PROJECTS</td>\n",
       "      <td>2013-11-11 04:10:17</td>\n",
       "      <td>0</td>\n",
       "      <td>0</td>\n",
       "      <td>230</td>\n",
       "      <td>not invited</td>\n",
       "    </tr>\n",
       "    <tr>\n",
       "      <th>5768</th>\n",
       "      <td>5769</td>\n",
       "      <td>2013-07-24 00:55:06</td>\n",
       "      <td>Alexander Zoe</td>\n",
       "      <td>ZoeAlexander@gustr.com</td>\n",
       "      <td>SIGNUP</td>\n",
       "      <td>2013-07-25 00:55:06</td>\n",
       "      <td>0</td>\n",
       "      <td>0</td>\n",
       "      <td>32</td>\n",
       "      <td>not invited</td>\n",
       "    </tr>\n",
       "    <tr>\n",
       "      <th>6420</th>\n",
       "      <td>6421</td>\n",
       "      <td>2013-03-29 22:05:46</td>\n",
       "      <td>Almeida Aline</td>\n",
       "      <td>AlineBarbosaAlmeida@jourrapide.com</td>\n",
       "      <td>PERSONAL_PROJECTS</td>\n",
       "      <td>2013-03-31 22:05:46</td>\n",
       "      <td>0</td>\n",
       "      <td>0</td>\n",
       "      <td>8</td>\n",
       "      <td>not invited</td>\n",
       "    </tr>\n",
       "    <tr>\n",
       "      <th>5105</th>\n",
       "      <td>5106</td>\n",
       "      <td>2012-09-12 21:35:02</td>\n",
       "      <td>Almeida Aline</td>\n",
       "      <td>AlineSousaAlmeida@gmail.com</td>\n",
       "      <td>SIGNUP</td>\n",
       "      <td>2012-09-12 21:35:02</td>\n",
       "      <td>0</td>\n",
       "      <td>0</td>\n",
       "      <td>79</td>\n",
       "      <td>not invited</td>\n",
       "    </tr>\n",
       "    <tr>\n",
       "      <th>9710</th>\n",
       "      <td>9711</td>\n",
       "      <td>2013-06-03 06:28:46</td>\n",
       "      <td>Almeida Andr�</td>\n",
       "      <td>AndreCorreiaAlmeida@hotmail.com</td>\n",
       "      <td>SIGNUP</td>\n",
       "      <td>2013-06-03 06:28:46</td>\n",
       "      <td>0</td>\n",
       "      <td>0</td>\n",
       "      <td>44</td>\n",
       "      <td>not invited</td>\n",
       "    </tr>\n",
       "  </tbody>\n",
       "</table>\n",
       "</div>"
      ],
      "text/plain": [
       "      object_id       creation_time           name  \\\n",
       "6696       6697 2013-11-11 04:10:17  Alexander Zoe   \n",
       "5768       5769 2013-07-24 00:55:06  Alexander Zoe   \n",
       "6420       6421 2013-03-29 22:05:46  Almeida Aline   \n",
       "5105       5106 2012-09-12 21:35:02  Almeida Aline   \n",
       "9710       9711 2013-06-03 06:28:46  Almeida Andr�   \n",
       "\n",
       "                                   email    creation_source  \\\n",
       "6696              ZoeAlexander@yahoo.com  PERSONAL_PROJECTS   \n",
       "5768              ZoeAlexander@gustr.com             SIGNUP   \n",
       "6420  AlineBarbosaAlmeida@jourrapide.com  PERSONAL_PROJECTS   \n",
       "5105         AlineSousaAlmeida@gmail.com             SIGNUP   \n",
       "9710     AndreCorreiaAlmeida@hotmail.com             SIGNUP   \n",
       "\n",
       "     last_session_creation_time opted_in_to_mailing_list  \\\n",
       "6696        2013-11-11 04:10:17                        0   \n",
       "5768        2013-07-25 00:55:06                        0   \n",
       "6420        2013-03-31 22:05:46                        0   \n",
       "5105        2012-09-12 21:35:02                        0   \n",
       "9710        2013-06-03 06:28:46                        0   \n",
       "\n",
       "     enabled_for_marketing_drip org_id invited_by_user_id  \n",
       "6696                          0    230        not invited  \n",
       "5768                          0     32        not invited  \n",
       "6420                          0      8        not invited  \n",
       "5105                          0     79        not invited  \n",
       "9710                          0     44        not invited  "
      ]
     },
     "execution_count": 40,
     "metadata": {},
     "output_type": "execute_result"
    }
   ],
   "source": [
    "df_users[df_users['name'].duplicated(keep=False)].sort_values('name').head()"
   ]
  },
  {
   "cell_type": "code",
   "execution_count": 41,
   "id": "f2be9e40",
   "metadata": {},
   "outputs": [
    {
     "data": {
      "text/plain": [
       "(1218, 10)"
      ]
     },
     "execution_count": 41,
     "metadata": {},
     "output_type": "execute_result"
    }
   ],
   "source": [
    "df_users[df_users['name'].duplicated(keep=False)].shape"
   ]
  },
  {
   "cell_type": "markdown",
   "id": "2df5ae76",
   "metadata": {},
   "source": [
    "There are users with the same name but different information on the other columns. We need more info to check whether these are the same people (who might have changed organization for example and got a new account). For now, we suppose they are different people."
   ]
  },
  {
   "cell_type": "code",
   "execution_count": 42,
   "id": "3fa64e98",
   "metadata": {},
   "outputs": [
    {
     "data": {
      "text/plain": [
       "object_id                              int64\n",
       "creation_time                 datetime64[ns]\n",
       "name                                  object\n",
       "email                                 object\n",
       "creation_source                       object\n",
       "last_session_creation_time    datetime64[ns]\n",
       "opted_in_to_mailing_list              object\n",
       "enabled_for_marketing_drip            object\n",
       "org_id                                object\n",
       "invited_by_user_id                    object\n",
       "dtype: object"
      ]
     },
     "execution_count": 42,
     "metadata": {},
     "output_type": "execute_result"
    }
   ],
   "source": [
    "df_users.dtypes"
   ]
  },
  {
   "cell_type": "code",
   "execution_count": 43,
   "id": "0661fa8c",
   "metadata": {},
   "outputs": [],
   "source": [
    "df_users['opted_in_to_mailing_list'] = pd.to_numeric(df_users['opted_in_to_mailing_list']).astype('bool')\n",
    "df_users['enabled_for_marketing_drip'] = pd.to_numeric(df_users['enabled_for_marketing_drip']).astype('bool')\n",
    "df_users['org_id'] = df_users['org_id'].astype('category')\n",
    "df_users['invited_by_user_id'] = df_users['invited_by_user_id'].astype('category')"
   ]
  },
  {
   "cell_type": "code",
   "execution_count": 44,
   "id": "8f03ffee",
   "metadata": {
    "scrolled": false
   },
   "outputs": [
    {
     "data": {
      "text/html": [
       "<div>\n",
       "<style scoped>\n",
       "    .dataframe tbody tr th:only-of-type {\n",
       "        vertical-align: middle;\n",
       "    }\n",
       "\n",
       "    .dataframe tbody tr th {\n",
       "        vertical-align: top;\n",
       "    }\n",
       "\n",
       "    .dataframe thead th {\n",
       "        text-align: right;\n",
       "    }\n",
       "</style>\n",
       "<table border=\"1\" class=\"dataframe\">\n",
       "  <thead>\n",
       "    <tr style=\"text-align: right;\">\n",
       "      <th></th>\n",
       "      <th>object_id</th>\n",
       "      <th>creation_time</th>\n",
       "      <th>name</th>\n",
       "      <th>email</th>\n",
       "      <th>creation_source</th>\n",
       "      <th>last_session_creation_time</th>\n",
       "      <th>opted_in_to_mailing_list</th>\n",
       "      <th>enabled_for_marketing_drip</th>\n",
       "      <th>org_id</th>\n",
       "      <th>invited_by_user_id</th>\n",
       "    </tr>\n",
       "  </thead>\n",
       "  <tbody>\n",
       "    <tr>\n",
       "      <th>0</th>\n",
       "      <td>1</td>\n",
       "      <td>2014-04-22 03:53:30</td>\n",
       "      <td>Clausen August</td>\n",
       "      <td>AugustCClausen@yahoo.com</td>\n",
       "      <td>GUEST_INVITE</td>\n",
       "      <td>2014-04-22 03:53:30</td>\n",
       "      <td>True</td>\n",
       "      <td>False</td>\n",
       "      <td>11</td>\n",
       "      <td>10803</td>\n",
       "    </tr>\n",
       "    <tr>\n",
       "      <th>1</th>\n",
       "      <td>2</td>\n",
       "      <td>2013-11-15 03:45:04</td>\n",
       "      <td>Poole Matthew</td>\n",
       "      <td>MatthewPoole@gustr.com</td>\n",
       "      <td>ORG_INVITE</td>\n",
       "      <td>2014-03-31 03:45:04</td>\n",
       "      <td>False</td>\n",
       "      <td>False</td>\n",
       "      <td>1</td>\n",
       "      <td>316</td>\n",
       "    </tr>\n",
       "    <tr>\n",
       "      <th>2</th>\n",
       "      <td>3</td>\n",
       "      <td>2013-03-19 23:14:52</td>\n",
       "      <td>Bottrill Mitchell</td>\n",
       "      <td>MitchellBottrill@gustr.com</td>\n",
       "      <td>ORG_INVITE</td>\n",
       "      <td>2013-03-19 23:14:52</td>\n",
       "      <td>False</td>\n",
       "      <td>False</td>\n",
       "      <td>94</td>\n",
       "      <td>1525</td>\n",
       "    </tr>\n",
       "    <tr>\n",
       "      <th>3</th>\n",
       "      <td>4</td>\n",
       "      <td>2013-05-21 08:09:28</td>\n",
       "      <td>Clausen Nicklas</td>\n",
       "      <td>NicklasSClausen@yahoo.com</td>\n",
       "      <td>GUEST_INVITE</td>\n",
       "      <td>2013-05-22 08:09:28</td>\n",
       "      <td>False</td>\n",
       "      <td>False</td>\n",
       "      <td>1</td>\n",
       "      <td>5151</td>\n",
       "    </tr>\n",
       "    <tr>\n",
       "      <th>4</th>\n",
       "      <td>5</td>\n",
       "      <td>2013-01-17 10:14:20</td>\n",
       "      <td>Raw Grace</td>\n",
       "      <td>GraceRaw@yahoo.com</td>\n",
       "      <td>GUEST_INVITE</td>\n",
       "      <td>2013-01-22 10:14:20</td>\n",
       "      <td>False</td>\n",
       "      <td>False</td>\n",
       "      <td>193</td>\n",
       "      <td>5240</td>\n",
       "    </tr>\n",
       "  </tbody>\n",
       "</table>\n",
       "</div>"
      ],
      "text/plain": [
       "   object_id       creation_time               name  \\\n",
       "0          1 2014-04-22 03:53:30     Clausen August   \n",
       "1          2 2013-11-15 03:45:04      Poole Matthew   \n",
       "2          3 2013-03-19 23:14:52  Bottrill Mitchell   \n",
       "3          4 2013-05-21 08:09:28    Clausen Nicklas   \n",
       "4          5 2013-01-17 10:14:20          Raw Grace   \n",
       "\n",
       "                        email creation_source last_session_creation_time  \\\n",
       "0    AugustCClausen@yahoo.com    GUEST_INVITE        2014-04-22 03:53:30   \n",
       "1      MatthewPoole@gustr.com      ORG_INVITE        2014-03-31 03:45:04   \n",
       "2  MitchellBottrill@gustr.com      ORG_INVITE        2013-03-19 23:14:52   \n",
       "3   NicklasSClausen@yahoo.com    GUEST_INVITE        2013-05-22 08:09:28   \n",
       "4          GraceRaw@yahoo.com    GUEST_INVITE        2013-01-22 10:14:20   \n",
       "\n",
       "   opted_in_to_mailing_list  enabled_for_marketing_drip org_id  \\\n",
       "0                      True                       False     11   \n",
       "1                     False                       False      1   \n",
       "2                     False                       False     94   \n",
       "3                     False                       False      1   \n",
       "4                     False                       False    193   \n",
       "\n",
       "  invited_by_user_id  \n",
       "0              10803  \n",
       "1                316  \n",
       "2               1525  \n",
       "3               5151  \n",
       "4               5240  "
      ]
     },
     "execution_count": 44,
     "metadata": {},
     "output_type": "execute_result"
    }
   ],
   "source": [
    "df_users.head()"
   ]
  },
  {
   "cell_type": "code",
   "execution_count": 45,
   "id": "502b3983",
   "metadata": {},
   "outputs": [],
   "source": [
    "df = df_users.merge(df_adopted_user, how='left', left_on='object_id', right_on='user_id')"
   ]
  },
  {
   "cell_type": "markdown",
   "id": "32d325f8",
   "metadata": {},
   "source": [
    "There are some users in the users dataframe for which there is no data available in the user engagment dataframe. The best guess we can make here is that these users have had no engagment and are thus not adopted users. In the merged dataframe, adopted user value for these users is NaN. So we convert these NaNs into False (not adopted)."
   ]
  },
  {
   "cell_type": "code",
   "execution_count": 46,
   "id": "55a7c8d8",
   "metadata": {},
   "outputs": [],
   "source": [
    "df['adopted_user'] = df['adopted_user'].replace(np.nan,False)"
   ]
  },
  {
   "cell_type": "markdown",
   "id": "4b56fdc3",
   "metadata": {},
   "source": [
    "Feature engineering: (we need today's date to create features but since we don't have that for this problem, we will use the last day an account was accessed)"
   ]
  },
  {
   "cell_type": "code",
   "execution_count": 47,
   "id": "4310dd7a",
   "metadata": {},
   "outputs": [],
   "source": [
    "df['days_since_last_login'] = (df['last_session_creation_time'].max().date() - \\\n",
    "          df['last_session_creation_time'].dt.date).dt.days.astype(int)"
   ]
  },
  {
   "cell_type": "code",
   "execution_count": 48,
   "id": "68abde37",
   "metadata": {},
   "outputs": [],
   "source": [
    "df['days_since_account_creation'] = (df['last_session_creation_time'].max().date() - \\\n",
    "          df['creation_time'].dt.date).dt.days.astype(int)"
   ]
  },
  {
   "cell_type": "code",
   "execution_count": 49,
   "id": "b7232aca",
   "metadata": {
    "scrolled": true
   },
   "outputs": [
    {
     "data": {
      "text/html": [
       "<div>\n",
       "<style scoped>\n",
       "    .dataframe tbody tr th:only-of-type {\n",
       "        vertical-align: middle;\n",
       "    }\n",
       "\n",
       "    .dataframe tbody tr th {\n",
       "        vertical-align: top;\n",
       "    }\n",
       "\n",
       "    .dataframe thead th {\n",
       "        text-align: right;\n",
       "    }\n",
       "</style>\n",
       "<table border=\"1\" class=\"dataframe\">\n",
       "  <thead>\n",
       "    <tr style=\"text-align: right;\">\n",
       "      <th></th>\n",
       "      <th>object_id</th>\n",
       "      <th>creation_time</th>\n",
       "      <th>name</th>\n",
       "      <th>email</th>\n",
       "      <th>creation_source</th>\n",
       "      <th>last_session_creation_time</th>\n",
       "      <th>opted_in_to_mailing_list</th>\n",
       "      <th>enabled_for_marketing_drip</th>\n",
       "      <th>org_id</th>\n",
       "      <th>invited_by_user_id</th>\n",
       "      <th>adopted_user</th>\n",
       "      <th>days_since_last_login</th>\n",
       "      <th>days_since_account_creation</th>\n",
       "    </tr>\n",
       "  </thead>\n",
       "  <tbody>\n",
       "    <tr>\n",
       "      <th>0</th>\n",
       "      <td>1</td>\n",
       "      <td>2014-04-22 03:53:30</td>\n",
       "      <td>Clausen August</td>\n",
       "      <td>AugustCClausen@yahoo.com</td>\n",
       "      <td>GUEST_INVITE</td>\n",
       "      <td>2014-04-22 03:53:30</td>\n",
       "      <td>True</td>\n",
       "      <td>False</td>\n",
       "      <td>11</td>\n",
       "      <td>10803</td>\n",
       "      <td>False</td>\n",
       "      <td>45</td>\n",
       "      <td>45</td>\n",
       "    </tr>\n",
       "    <tr>\n",
       "      <th>1</th>\n",
       "      <td>2</td>\n",
       "      <td>2013-11-15 03:45:04</td>\n",
       "      <td>Poole Matthew</td>\n",
       "      <td>MatthewPoole@gustr.com</td>\n",
       "      <td>ORG_INVITE</td>\n",
       "      <td>2014-03-31 03:45:04</td>\n",
       "      <td>False</td>\n",
       "      <td>False</td>\n",
       "      <td>1</td>\n",
       "      <td>316</td>\n",
       "      <td>True</td>\n",
       "      <td>67</td>\n",
       "      <td>203</td>\n",
       "    </tr>\n",
       "    <tr>\n",
       "      <th>2</th>\n",
       "      <td>3</td>\n",
       "      <td>2013-03-19 23:14:52</td>\n",
       "      <td>Bottrill Mitchell</td>\n",
       "      <td>MitchellBottrill@gustr.com</td>\n",
       "      <td>ORG_INVITE</td>\n",
       "      <td>2013-03-19 23:14:52</td>\n",
       "      <td>False</td>\n",
       "      <td>False</td>\n",
       "      <td>94</td>\n",
       "      <td>1525</td>\n",
       "      <td>False</td>\n",
       "      <td>444</td>\n",
       "      <td>444</td>\n",
       "    </tr>\n",
       "    <tr>\n",
       "      <th>3</th>\n",
       "      <td>4</td>\n",
       "      <td>2013-05-21 08:09:28</td>\n",
       "      <td>Clausen Nicklas</td>\n",
       "      <td>NicklasSClausen@yahoo.com</td>\n",
       "      <td>GUEST_INVITE</td>\n",
       "      <td>2013-05-22 08:09:28</td>\n",
       "      <td>False</td>\n",
       "      <td>False</td>\n",
       "      <td>1</td>\n",
       "      <td>5151</td>\n",
       "      <td>False</td>\n",
       "      <td>380</td>\n",
       "      <td>381</td>\n",
       "    </tr>\n",
       "    <tr>\n",
       "      <th>4</th>\n",
       "      <td>5</td>\n",
       "      <td>2013-01-17 10:14:20</td>\n",
       "      <td>Raw Grace</td>\n",
       "      <td>GraceRaw@yahoo.com</td>\n",
       "      <td>GUEST_INVITE</td>\n",
       "      <td>2013-01-22 10:14:20</td>\n",
       "      <td>False</td>\n",
       "      <td>False</td>\n",
       "      <td>193</td>\n",
       "      <td>5240</td>\n",
       "      <td>False</td>\n",
       "      <td>500</td>\n",
       "      <td>505</td>\n",
       "    </tr>\n",
       "  </tbody>\n",
       "</table>\n",
       "</div>"
      ],
      "text/plain": [
       "   object_id       creation_time               name  \\\n",
       "0          1 2014-04-22 03:53:30     Clausen August   \n",
       "1          2 2013-11-15 03:45:04      Poole Matthew   \n",
       "2          3 2013-03-19 23:14:52  Bottrill Mitchell   \n",
       "3          4 2013-05-21 08:09:28    Clausen Nicklas   \n",
       "4          5 2013-01-17 10:14:20          Raw Grace   \n",
       "\n",
       "                        email creation_source last_session_creation_time  \\\n",
       "0    AugustCClausen@yahoo.com    GUEST_INVITE        2014-04-22 03:53:30   \n",
       "1      MatthewPoole@gustr.com      ORG_INVITE        2014-03-31 03:45:04   \n",
       "2  MitchellBottrill@gustr.com      ORG_INVITE        2013-03-19 23:14:52   \n",
       "3   NicklasSClausen@yahoo.com    GUEST_INVITE        2013-05-22 08:09:28   \n",
       "4          GraceRaw@yahoo.com    GUEST_INVITE        2013-01-22 10:14:20   \n",
       "\n",
       "   opted_in_to_mailing_list  enabled_for_marketing_drip org_id  \\\n",
       "0                      True                       False     11   \n",
       "1                     False                       False      1   \n",
       "2                     False                       False     94   \n",
       "3                     False                       False      1   \n",
       "4                     False                       False    193   \n",
       "\n",
       "  invited_by_user_id  adopted_user  days_since_last_login  \\\n",
       "0              10803         False                     45   \n",
       "1                316          True                     67   \n",
       "2               1525         False                    444   \n",
       "3               5151         False                    380   \n",
       "4               5240         False                    500   \n",
       "\n",
       "   days_since_account_creation  \n",
       "0                           45  \n",
       "1                          203  \n",
       "2                          444  \n",
       "3                          381  \n",
       "4                          505  "
      ]
     },
     "execution_count": 49,
     "metadata": {},
     "output_type": "execute_result"
    }
   ],
   "source": [
    "df.head()"
   ]
  },
  {
   "cell_type": "markdown",
   "id": "0d0a8187",
   "metadata": {},
   "source": [
    "We perform exploratory data analysis"
   ]
  },
  {
   "cell_type": "code",
   "execution_count": 50,
   "id": "fd281e7d",
   "metadata": {},
   "outputs": [
    {
     "data": {
      "image/png": "[encoded data removed]",
      "text/plain": [
       "<Figure size 432x288 with 1 Axes>"
      ]
     },
     "metadata": {
      "needs_background": "light"
     },
     "output_type": "display_data"
    }
   ],
   "source": [
    "fig, ax = plt.subplots()\n",
    "ax.hist(df['days_since_account_creation'], bins=50)\n",
    "ax.set_xlabel('Days')\n",
    "ax.set_ylabel('Frequency')\n",
    "ax.set_title('Distribution of days account has been open')\n",
    "plt.show()"
   ]
  },
  {
   "cell_type": "code",
   "execution_count": 51,
   "id": "75dd04f3",
   "metadata": {
    "scrolled": true
   },
   "outputs": [
    {
     "data": {
      "image/png": "[encoded data removed]",
      "text/plain": [
       "<Figure size 432x288 with 1 Axes>"
      ]
     },
     "metadata": {
      "needs_background": "light"
     },
     "output_type": "display_data"
    }
   ],
   "source": [
    "fig, ax = plt.subplots()\n",
    "ax.hist(df['days_since_last_login'], bins=50)\n",
    "ax.set_xlabel('Days')\n",
    "ax.set_ylabel('Frequency')\n",
    "ax.set_title('Distribution of days since last login')\n",
    "plt.show()"
   ]
  },
  {
   "cell_type": "code",
   "execution_count": 52,
   "id": "052b2f82",
   "metadata": {},
   "outputs": [
    {
     "data": {
      "image/png": "[encoded data removed]",
      "text/plain": [
       "<Figure size 432x288 with 1 Axes>"
      ]
     },
     "metadata": {
      "needs_background": "light"
     },
     "output_type": "display_data"
    }
   ],
   "source": [
    "adopted_user = len(df[df['adopted_user'] == True])\n",
    "unadopted_user = len(df[df['adopted_user'] == False])\n",
    "fig, ax = plt.subplots()\n",
    "ax.barh(np.arange(1,3),[adopted_user,unadopted_user])\n",
    "ax.set_xlabel('Number of users')\n",
    "ax.set_yticks(np.arange(1,3))\n",
    "ax.set_yticklabels(['Adopted Users', 'Unadopted Users'])\n",
    "ax.set_title('Distribution of users')\n",
    "plt.show()"
   ]
  },
  {
   "cell_type": "code",
   "execution_count": 53,
   "id": "e6efbeeb",
   "metadata": {
    "scrolled": true
   },
   "outputs": [
    {
     "data": {
      "image/png": "[encoded data removed]",
      "text/plain": [
       "<Figure size 432x288 with 1 Axes>"
      ]
     },
     "metadata": {
      "needs_background": "light"
     },
     "output_type": "display_data"
    }
   ],
   "source": [
    "opted_mailing_list = len(df[df['opted_in_to_mailing_list'] == True])\n",
    "not_opted = len(df[df['opted_in_to_mailing_list'] == False])\n",
    "fig, ax = plt.subplots()\n",
    "ax.barh(np.arange(1,3),[opted_mailing_list,not_opted])\n",
    "ax.set_xlabel('Number of users')\n",
    "ax.set_yticks(np.arange(1,3))\n",
    "ax.set_yticklabels(['Opted', 'Not opted'])\n",
    "ax.set_title('Distribution of users for mailing list')\n",
    "plt.show()"
   ]
  },
  {
   "cell_type": "code",
   "execution_count": 54,
   "id": "ec2dd89f",
   "metadata": {},
   "outputs": [
    {
     "data": {
      "image/png": "[encoded data removed]",
      "text/plain": [
       "<Figure size 432x288 with 1 Axes>"
      ]
     },
     "metadata": {
      "needs_background": "light"
     },
     "output_type": "display_data"
    }
   ],
   "source": [
    "enabled_marketing = len(df[df['enabled_for_marketing_drip'] == True])\n",
    "not_enabled = len(df[df['enabled_for_marketing_drip'] == False])\n",
    "fig, ax = plt.subplots()\n",
    "ax.barh(np.arange(1,3),[enabled_marketing,not_enabled])\n",
    "ax.set_xlabel('Number of users')\n",
    "ax.set_yticks(np.arange(1,3))\n",
    "ax.set_yticklabels(['Enabled', 'Not enabled'])\n",
    "ax.set_title('Distribution of users for marketing drip')\n",
    "plt.show()"
   ]
  },
  {
   "cell_type": "markdown",
   "id": "3fa323a5",
   "metadata": {},
   "source": [
    "We preprocess the data for modeling:"
   ]
  },
  {
   "cell_type": "code",
   "execution_count": 55,
   "id": "f4e642b8",
   "metadata": {},
   "outputs": [],
   "source": [
    "X = df[['creation_source', 'opted_in_to_mailing_list', 'enabled_for_marketing_drip', 'org_id', \\\n",
    "        'invited_by_user_id', 'days_since_last_login', 'days_since_account_creation']]\n",
    "y = df[['adopted_user']]"
   ]
  },
  {
   "cell_type": "code",
   "execution_count": 56,
   "id": "35ce4d73",
   "metadata": {},
   "outputs": [
    {
     "data": {
      "text/plain": [
       "creation_source                  object\n",
       "opted_in_to_mailing_list           bool\n",
       "enabled_for_marketing_drip         bool\n",
       "org_id                         category\n",
       "invited_by_user_id             category\n",
       "days_since_last_login             int64\n",
       "days_since_account_creation       int64\n",
       "dtype: object"
      ]
     },
     "execution_count": 56,
     "metadata": {},
     "output_type": "execute_result"
    }
   ],
   "source": [
    "X.dtypes"
   ]
  },
  {
   "cell_type": "code",
   "execution_count": 57,
   "id": "eed8ebff",
   "metadata": {},
   "outputs": [
    {
     "data": {
      "text/plain": [
       "adopted_user    bool\n",
       "dtype: object"
      ]
     },
     "execution_count": 57,
     "metadata": {},
     "output_type": "execute_result"
    }
   ],
   "source": [
    "y.dtypes"
   ]
  },
  {
   "cell_type": "code",
   "execution_count": 58,
   "id": "a6ff9b01",
   "metadata": {},
   "outputs": [
    {
     "data": {
      "text/plain": [
       "adopted_user    bool\n",
       "dtype: object"
      ]
     },
     "execution_count": 58,
     "metadata": {},
     "output_type": "execute_result"
    }
   ],
   "source": [
    "y = y.astype('bool')\n",
    "y.dtypes"
   ]
  },
  {
   "cell_type": "code",
   "execution_count": 59,
   "id": "24ae5665",
   "metadata": {},
   "outputs": [],
   "source": [
    "onehotencoded_columns = pd.get_dummies(X[['creation_source', 'org_id', 'invited_by_user_id']], drop_first = True)"
   ]
  },
  {
   "cell_type": "code",
   "execution_count": 60,
   "id": "cdd54f85",
   "metadata": {},
   "outputs": [],
   "source": [
    "X = pd.concat([X[['opted_in_to_mailing_list', 'enabled_for_marketing_drip', 'days_since_last_login', \\\n",
    "              'days_since_account_creation']], pd.DataFrame(onehotencoded_columns)],axis=1)"
   ]
  },
  {
   "cell_type": "code",
   "execution_count": 61,
   "id": "c4bec12e",
   "metadata": {},
   "outputs": [],
   "source": [
    "X_train, X_test, y_train, y_test = train_test_split(X, y, test_size = 0.2, random_state=42)"
   ]
  },
  {
   "cell_type": "code",
   "execution_count": 62,
   "id": "a87b495b",
   "metadata": {},
   "outputs": [
    {
     "data": {
      "text/plain": [
       "StandardScaler()"
      ]
     },
     "execution_count": 62,
     "metadata": {},
     "output_type": "execute_result"
    }
   ],
   "source": [
    "scaler = StandardScaler()\n",
    "scaler.fit(X_train[['days_since_last_login', 'days_since_account_creation']])"
   ]
  },
  {
   "cell_type": "code",
   "execution_count": 63,
   "id": "ad83826d",
   "metadata": {},
   "outputs": [],
   "source": [
    "scaled_train_columns = scaler.transform(X_train[['days_since_last_login', 'days_since_account_creation']])\n",
    "scaled_test_columns = scaler.transform(X_test[['days_since_last_login', 'days_since_account_creation']])"
   ]
  },
  {
   "cell_type": "code",
   "execution_count": 64,
   "id": "60dc3d5d",
   "metadata": {},
   "outputs": [],
   "source": [
    "X_train = pd.concat([X_train.drop(columns=['days_since_last_login', 'days_since_account_creation']).\\\n",
    "                   reset_index(drop=True), pd.DataFrame(scaled_train_columns, \\\n",
    "                   columns=['days_since_last_login','days_since_account_creation'])], axis=1)"
   ]
  },
  {
   "cell_type": "code",
   "execution_count": 65,
   "id": "82797ffd",
   "metadata": {},
   "outputs": [],
   "source": [
    "X_test = pd.concat([X_test.drop(columns=['days_since_last_login', 'days_since_account_creation']).\\\n",
    "                   reset_index(drop=True), pd.DataFrame(scaled_test_columns, \\\n",
    "                   columns=['days_since_last_login','days_since_account_creation'])], axis=1)"
   ]
  },
  {
   "cell_type": "markdown",
   "id": "21906bbb",
   "metadata": {},
   "source": [
    "We now perform modeling. Since we have class imbalance we try logistic regression as well as two tree based algorithms (random forest and gradient boosting) which should perform better on imbalanced data. We also try support vector classifer and include penalization for mistakes on the minority class by an amount proportional to how under-represented it is."
   ]
  },
  {
   "cell_type": "code",
   "execution_count": 66,
   "id": "1a4c2c61",
   "metadata": {},
   "outputs": [],
   "source": [
    "from sklearn.linear_model import LogisticRegression\n",
    "from sklearn.ensemble import RandomForestClassifier\n",
    "from sklearn.ensemble import GradientBoostingClassifier\n",
    "from sklearn.svm import SVC\n",
    "from sklearn.model_selection import cross_val_score\n",
    "from sklearn.metrics import classification_report\n",
    "from sklearn.metrics import plot_confusion_matrix\n",
    "from sklearn.metrics import roc_auc_score\n",
    "from sklearn.utils import resample\n",
    "import warnings\n",
    "warnings.filterwarnings(\"ignore\")"
   ]
  },
  {
   "cell_type": "code",
   "execution_count": 67,
   "id": "14538216",
   "metadata": {},
   "outputs": [],
   "source": [
    "lr = LogisticRegression(random_state = 42)\n",
    "lr_mean_accuracy = np.mean(cross_val_score(lr,X_train,y_train,cv=5))\n",
    "lr.fit(X_train, y_train)\n",
    "target_names = ['Unadopted User', 'Adopted User']\n",
    "lr_cr_train = classification_report(y_train, lr.predict(X_train), target_names=target_names)\n",
    "lr_cr_test = classification_report(y_test, lr.predict(X_test), target_names=target_names)\n",
    "lr_accuracy_train = lr.score(X_train, y_train)\n",
    "lr_accuracy_test = lr.score(X_test, y_test)\n",
    "lr_roc_auc_score_train = roc_auc_score(y_train, lr.predict_proba(X_train)[:, 1])\n",
    "lr_roc_auc_score_test = roc_auc_score(y_test, lr.predict_proba(X_test)[:, 1])"
   ]
  },
  {
   "cell_type": "code",
   "execution_count": 68,
   "id": "3a7aba53",
   "metadata": {},
   "outputs": [
    {
     "name": "stdout",
     "output_type": "stream",
     "text": [
      "Mean cross validation accuracy for training set: 0.9714583333333333\n",
      "Accuracy for training set: 0.97875\n",
      "Accuracy for test set: 0.9754166666666667\n",
      "roc-auc score for training set: 0.9963194200702279\n",
      "roc-auc score for test set: 0.9922440262437068\n",
      "Classification report for training set:\n",
      "                 precision    recall  f1-score   support\n",
      "\n",
      "Unadopted User       0.98      1.00      0.99      8324\n",
      "  Adopted User       0.97      0.86      0.92      1276\n",
      "\n",
      "      accuracy                           0.98      9600\n",
      "     macro avg       0.98      0.93      0.95      9600\n",
      "  weighted avg       0.98      0.98      0.98      9600\n",
      "\n",
      "Classification report for test set:\n",
      "                 precision    recall  f1-score   support\n",
      "\n",
      "Unadopted User       0.98      0.99      0.99      2074\n",
      "  Adopted User       0.96      0.85      0.90       326\n",
      "\n",
      "      accuracy                           0.98      2400\n",
      "     macro avg       0.97      0.92      0.94      2400\n",
      "  weighted avg       0.98      0.98      0.97      2400\n",
      "\n"
     ]
    },
    {
     "data": {
      "image/png": "[encoded data removed]",
      "text/plain": [
       "<Figure size 432x288 with 2 Axes>"
      ]
     },
     "metadata": {
      "needs_background": "light"
     },
     "output_type": "display_data"
    },
    {
     "data": {
      "image/png": "[encoded data removed]",
      "text/plain": [
       "<Figure size 432x288 with 2 Axes>"
      ]
     },
     "metadata": {
      "needs_background": "light"
     },
     "output_type": "display_data"
    }
   ],
   "source": [
    "print('Mean cross validation accuracy for training set:', lr_mean_accuracy)\n",
    "print('Accuracy for training set:', lr_accuracy_train)\n",
    "print('Accuracy for test set:', lr_accuracy_test)\n",
    "print('roc-auc score for training set:', lr_roc_auc_score_train)\n",
    "print('roc-auc score for test set:', lr_roc_auc_score_test)\n",
    "print('Classification report for training set:\\n', lr_cr_train)\n",
    "print('Classification report for test set:\\n', lr_cr_test)\n",
    "disp = plot_confusion_matrix(lr, X_train, y_train, display_labels=target_names, cmap=plt.cm.Blues)\n",
    "disp.ax_.set_title('Confusion Matrix for Training Set')\n",
    "plt.show()\n",
    "disp = plot_confusion_matrix(lr, X_test, y_test, display_labels=target_names, cmap=plt.cm.Blues)\n",
    "disp.ax_.set_title('Confusion Matrix for Test Set')\n",
    "plt.show()"
   ]
  },
  {
   "cell_type": "code",
   "execution_count": 69,
   "id": "ca3cefd2",
   "metadata": {},
   "outputs": [],
   "source": [
    "rf = RandomForestClassifier(random_state = 42, max_depth=3, max_leaf_nodes=5)\n",
    "rf_mean_accuracy = np.mean(cross_val_score(rf,X_train,y_train,cv=5))\n",
    "rf.fit(X_train, y_train)\n",
    "rf_cr_train = classification_report(y_train, rf.predict(X_train), target_names=target_names)\n",
    "rf_cr_test = classification_report(y_test, rf.predict(X_test), target_names=target_names)\n",
    "rf_accuracy_train = rf.score(X_train, y_train)\n",
    "rf_accuracy_test = rf.score(X_test, y_test)\n",
    "rf_roc_auc_score_train = roc_auc_score(y_train, rf.predict_proba(X_train)[:, 1])\n",
    "rf_roc_auc_score_test = roc_auc_score(y_test, rf.predict_proba(X_test)[:, 1])"
   ]
  },
  {
   "cell_type": "code",
   "execution_count": 70,
   "id": "a4301112",
   "metadata": {},
   "outputs": [
    {
     "name": "stdout",
     "output_type": "stream",
     "text": [
      "Mean cross validation accuracy for training set: 0.8670833333333334\n",
      "Accuracy for training set: 0.8670833333333333\n",
      "Accuracy for test set: 0.8641666666666666\n",
      "roc-auc score for training set: 0.676378468649778\n",
      "roc-auc score for test set: 0.6093549408096739\n",
      "Classification report for training set:\n",
      "                 precision    recall  f1-score   support\n",
      "\n",
      "Unadopted User       0.87      1.00      0.93      8324\n",
      "  Adopted User       0.00      0.00      0.00      1276\n",
      "\n",
      "      accuracy                           0.87      9600\n",
      "     macro avg       0.43      0.50      0.46      9600\n",
      "  weighted avg       0.75      0.87      0.81      9600\n",
      "\n",
      "Classification report for test set:\n",
      "                 precision    recall  f1-score   support\n",
      "\n",
      "Unadopted User       0.86      1.00      0.93      2074\n",
      "  Adopted User       0.00      0.00      0.00       326\n",
      "\n",
      "      accuracy                           0.86      2400\n",
      "     macro avg       0.43      0.50      0.46      2400\n",
      "  weighted avg       0.75      0.86      0.80      2400\n",
      "\n"
     ]
    },
    {
     "data": {
      "image/png": "[encoded data removed]",
      "text/plain": [
       "<Figure size 432x288 with 2 Axes>"
      ]
     },
     "metadata": {
      "needs_background": "light"
     },
     "output_type": "display_data"
    },
    {
     "data": {
      "image/png": "[encoded data removed]",
      "text/plain": [
       "<Figure size 432x288 with 2 Axes>"
      ]
     },
     "metadata": {
      "needs_background": "light"
     },
     "output_type": "display_data"
    }
   ],
   "source": [
    "print('Mean cross validation accuracy for training set:', rf_mean_accuracy)\n",
    "print('Accuracy for training set:', rf_accuracy_train)\n",
    "print('Accuracy for test set:', rf_accuracy_test)\n",
    "print('roc-auc score for training set:', rf_roc_auc_score_train)\n",
    "print('roc-auc score for test set:', rf_roc_auc_score_test)\n",
    "print('Classification report for training set:\\n', rf_cr_train)\n",
    "print('Classification report for test set:\\n', rf_cr_test)\n",
    "disp = plot_confusion_matrix(rf, X_train, y_train, display_labels=target_names, cmap=plt.cm.Blues)\n",
    "disp.ax_.set_title('Confusion Matrix for Training Set')\n",
    "plt.show()\n",
    "disp = plot_confusion_matrix(rf, X_test, y_test, display_labels=target_names, cmap=plt.cm.Blues)\n",
    "disp.ax_.set_title('Confusion Matrix for Test Set')\n",
    "plt.show()"
   ]
  },
  {
   "cell_type": "code",
   "execution_count": 71,
   "id": "4d5beba3",
   "metadata": {},
   "outputs": [],
   "source": [
    "gb = GradientBoostingClassifier(random_state = 42, max_leaf_nodes=5)\n",
    "gb_mean_accuracy = np.mean(cross_val_score(gb,X_train,y_train,cv=5))\n",
    "gb.fit(X_train, y_train)\n",
    "gb_cr_train = classification_report(y_train, gb.predict(X_train), target_names=target_names)\n",
    "gb_cr_test = classification_report(y_test, gb.predict(X_test), target_names=target_names)\n",
    "gb_accuracy_train = gb.score(X_train, y_train)\n",
    "gb_accuracy_test = gb.score(X_test, y_test)\n",
    "gb_roc_auc_score_train = roc_auc_score(y_train, gb.predict_proba(X_train)[:, 1])\n",
    "gb_roc_auc_score_test = roc_auc_score(y_test, gb.predict_proba(X_test)[:, 1])"
   ]
  },
  {
   "cell_type": "code",
   "execution_count": 72,
   "id": "0e22e7a5",
   "metadata": {
    "scrolled": false
   },
   "outputs": [
    {
     "name": "stdout",
     "output_type": "stream",
     "text": [
      "Mean cross validation accuracy for training set: 0.96125\n",
      "Accuracy for training set: 0.9666666666666667\n",
      "Accuracy for test set: 0.9633333333333334\n",
      "roc-auc score for training set: 0.9922027404235062\n",
      "roc-auc score for test set: 0.981851701758849\n",
      "Classification report for training set:\n",
      "                 precision    recall  f1-score   support\n",
      "\n",
      "Unadopted User       0.97      1.00      0.98      8324\n",
      "  Adopted User       0.97      0.77      0.86      1276\n",
      "\n",
      "      accuracy                           0.97      9600\n",
      "     macro avg       0.97      0.88      0.92      9600\n",
      "  weighted avg       0.97      0.97      0.97      9600\n",
      "\n",
      "Classification report for test set:\n",
      "                 precision    recall  f1-score   support\n",
      "\n",
      "Unadopted User       0.96      0.99      0.98      2074\n",
      "  Adopted User       0.95      0.77      0.85       326\n",
      "\n",
      "      accuracy                           0.96      2400\n",
      "     macro avg       0.96      0.88      0.91      2400\n",
      "  weighted avg       0.96      0.96      0.96      2400\n",
      "\n"
     ]
    },
    {
     "data": {
      "image/png": "[encoded data removed]",
      "text/plain": [
       "<Figure size 432x288 with 2 Axes>"
      ]
     },
     "metadata": {
      "needs_background": "light"
     },
     "output_type": "display_data"
    },
    {
     "data": {
      "image/png": "[encoded data removed]",
      "text/plain": [
       "<Figure size 432x288 with 2 Axes>"
      ]
     },
     "metadata": {
      "needs_background": "light"
     },
     "output_type": "display_data"
    }
   ],
   "source": [
    "print('Mean cross validation accuracy for training set:', gb_mean_accuracy)\n",
    "print('Accuracy for training set:', gb_accuracy_train)\n",
    "print('Accuracy for test set:', gb_accuracy_test)\n",
    "print('roc-auc score for training set:', gb_roc_auc_score_train)\n",
    "print('roc-auc score for test set:', gb_roc_auc_score_test)\n",
    "print('Classification report for training set:\\n', gb_cr_train)\n",
    "print('Classification report for test set:\\n', gb_cr_test)\n",
    "disp = plot_confusion_matrix(gb, X_train, y_train, display_labels=target_names, cmap=plt.cm.Blues)\n",
    "disp.ax_.set_title('Confusion Matrix for Training Set')\n",
    "plt.show()\n",
    "disp = plot_confusion_matrix(gb, X_test, y_test, display_labels=target_names, cmap=plt.cm.Blues)\n",
    "disp.ax_.set_title('Confusion Matrix for Test Set')\n",
    "plt.show()"
   ]
  },
  {
   "cell_type": "code",
   "execution_count": 73,
   "id": "1c880140",
   "metadata": {},
   "outputs": [],
   "source": [
    "sv = SVC(random_state = 42, kernel='linear', class_weight='balanced', probability=True)\n",
    "sv_mean_accuracy = np.mean(cross_val_score(sv,X_train,y_train,cv=5))\n",
    "sv.fit(X_train, y_train)\n",
    "sv_cr_train = classification_report(y_train, sv.predict(X_train), target_names=target_names)\n",
    "sv_cr_test = classification_report(y_test, sv.predict(X_test), target_names=target_names)\n",
    "sv_accuracy_train = sv.score(X_train, y_train)\n",
    "sv_accuracy_test = sv.score(X_test, y_test)\n",
    "sv_roc_auc_score_train = roc_auc_score(y_train, sv.predict_proba(X_train)[:, 1])\n",
    "sv_roc_auc_score_test = roc_auc_score(y_test, sv.predict_proba(X_test)[:, 1])"
   ]
  },
  {
   "cell_type": "code",
   "execution_count": 74,
   "id": "a85325c1",
   "metadata": {},
   "outputs": [
    {
     "name": "stdout",
     "output_type": "stream",
     "text": [
      "Mean cross validation accuracy for training set: 0.9672916666666668\n",
      "Accuracy for training set: 0.9836458333333333\n",
      "Accuracy for test set: 0.9675\n",
      "roc-auc score for training set: 0.9982711357723786\n",
      "roc-auc score for test set: 0.9838964450307932\n",
      "Classification report for training set:\n",
      "                 precision    recall  f1-score   support\n",
      "\n",
      "Unadopted User       1.00      0.98      0.99      8324\n",
      "  Adopted User       0.90      0.99      0.94      1276\n",
      "\n",
      "      accuracy                           0.98      9600\n",
      "     macro avg       0.95      0.98      0.97      9600\n",
      "  weighted avg       0.98      0.98      0.98      9600\n",
      "\n",
      "Classification report for test set:\n",
      "                 precision    recall  f1-score   support\n",
      "\n",
      "Unadopted User       0.99      0.97      0.98      2074\n",
      "  Adopted User       0.85      0.92      0.89       326\n",
      "\n",
      "      accuracy                           0.97      2400\n",
      "     macro avg       0.92      0.95      0.93      2400\n",
      "  weighted avg       0.97      0.97      0.97      2400\n",
      "\n"
     ]
    },
    {
     "data": {
      "image/png": "[encoded data removed]",
      "text/plain": [
       "<Figure size 432x288 with 2 Axes>"
      ]
     },
     "metadata": {
      "needs_background": "light"
     },
     "output_type": "display_data"
    },
    {
     "data": {
      "image/png": "[encoded data removed]",
      "text/plain": [
       "<Figure size 432x288 with 2 Axes>"
      ]
     },
     "metadata": {
      "needs_background": "light"
     },
     "output_type": "display_data"
    }
   ],
   "source": [
    "print('Mean cross validation accuracy for training set:', sv_mean_accuracy)\n",
    "print('Accuracy for training set:', sv_accuracy_train)\n",
    "print('Accuracy for test set:', sv_accuracy_test)\n",
    "print('roc-auc score for training set:', sv_roc_auc_score_train)\n",
    "print('roc-auc score for test set:', sv_roc_auc_score_test)\n",
    "print('Classification report for training set:\\n', sv_cr_train)\n",
    "print('Classification report for test set:\\n', sv_cr_test)\n",
    "disp = plot_confusion_matrix(sv, X_train, y_train, display_labels=target_names, cmap=plt.cm.Blues)\n",
    "disp.ax_.set_title('Confusion Matrix for Training Set')\n",
    "plt.show()\n",
    "disp = plot_confusion_matrix(sv, X_test, y_test, display_labels=target_names, cmap=plt.cm.Blues)\n",
    "disp.ax_.set_title('Confusion Matrix for Test Set')\n",
    "plt.show()"
   ]
  },
  {
   "cell_type": "markdown",
   "id": "3baf2527",
   "metadata": {},
   "source": [
    "Since we have good performing models and for the sake of time, we do not perform any hyperparameter tuning. Among our models, logistic regression has the overall best performance. However, support vector classifer performs almost equivalently well and also it performs better considering the minority class, adopted users. This means that support vector classifer has the least probability to label an actually adopted user as unadopted.<br>\n",
    "We now check for important features:"
   ]
  },
  {
   "cell_type": "code",
   "execution_count": 77,
   "id": "2eb24a69",
   "metadata": {},
   "outputs": [
    {
     "data": {
      "image/png": "[encoded data removed]",
      "text/plain": [
       "<Figure size 1080x720 with 1 Axes>"
      ]
     },
     "metadata": {
      "needs_background": "light"
     },
     "output_type": "display_data"
    }
   ],
   "source": [
    "table = pd.DataFrame({'Features':X_train.columns, 'Importance':sv.coef_.reshape(sv.coef_.shape[1]),\\\n",
    "                      'ABSImportance':np.abs(sv.coef_).reshape(sv.coef_.shape[1])}).\\\n",
    "                                             sort_values('ABSImportance', ascending=False)\n",
    "feature_importance = np.flip(table['Importance'][:16])\n",
    "features = np.flip(table['Features'][:16])\n",
    "plt.figure(figsize=(15,10))\n",
    "index = [0,1,2,3,4,5,6,7,8,9,10,11,12,13,14,15]\n",
    "plt.barh(index, feature_importance, align='center', color='blue', edgecolor='k')\n",
    "plt.xlabel('Importance (Coefficient)', fontsize = 15)\n",
    "plt.yticks(index, features)\n",
    "plt.ylabel('Features', fontsize = 15)\n",
    "plt.title('Feature Importance (Coefficients) for Support Vector Classifier', fontsize=15)\n",
    "plt.show()"
   ]
  }
 ],
 "metadata": {
  "kernelspec": {
   "display_name": "Python 3",
   "language": "python",
   "name": "python3"
  },
  "language_info": {
   "codemirror_mode": {
    "name": "ipython",
    "version": 3
   },
   "file_extension": ".py",
   "mimetype": "text/x-python",
   "name": "python",
   "nbconvert_exporter": "python",
   "pygments_lexer": "ipython3",
   "version": "3.8.8"
  }
 },
 "nbformat": 4,
 "nbformat_minor": 5
}
